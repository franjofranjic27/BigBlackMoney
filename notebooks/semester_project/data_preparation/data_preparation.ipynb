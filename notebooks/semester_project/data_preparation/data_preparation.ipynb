{
 "nbformat": 4,
 "nbformat_minor": 0,
 "metadata": {
  "colab": {
   "provenance": [],
   "authorship_tag": "ABX9TyPc8qpeRDwAkx9+gj6Dc1E6"
  },
  "kernelspec": {
   "name": "python3",
   "display_name": "Python 3 (ipykernel)",
   "language": "python"
  },
  "language_info": {
   "name": "python"
  }
 },
 "cells": [
  {
   "cell_type": "markdown",
   "source": [
    "# Data Preparation – Explorative Datenqualitätsanalyse (ohne Eingriffe)\n",
    "\n",
    "Ziel: Überblick über Datenqualität gewinnen, **ohne** die Daten zu verändern.\n",
    "Checks:\n",
    "- Struktur & Datentypen\n",
    "- Missing Values (pro Spalte/Zeile)\n",
    "- Duplikate\n",
    "- Ausreißer (IQR & z-Score)\n",
    "- (In)konsistente Kategorien (z. B. Groß/Kleinschreibung, Leerzeichen, Akzente)\n",
    "- Konstanten/Quasi-Konstanten\n",
    "- (Optional) Zielvariable / Klassenverteilung\n",
    "\n",
    "> Hinweis: Dieses Notebook **nimmt keine Bereinigung** vor – nur Analyse/\n",
    "\n",
    "es gibt keine null zu ersetzen oder keine ausreiser zu ersetzen ausser amount nochmals prüfen\n",
    "featureengineering sehr wichtig\n",
    "nochmals prüfen ob es normalverteilungen gibt\n",
    "skalieren der zahlenwerte."
   ],
   "metadata": {
    "id": "BoRGP7mZFZDP"
   }
  },
  {
   "cell_type": "code",
   "source": [
    "### Daten einlesen - VORSICHT: Absichtlich \"manipulierte\" Daten\n",
    "## Daten von Kaggle: https://www.kaggle.com/datasets/radheshyamkollipara/bank-customer-churn/data\n",
    "\n",
    "# CSV-File einlesen - mit Library pandas\n",
    "import pandas as pd\n",
    "df = pd.read_csv('../../../data/Big_Black_Money_Dataset.csv')"
   ],
   "metadata": {
    "colab": {
     "base_uri": "https://localhost:8080/"
    },
    "id": "tEVKzz-3ghfH",
    "executionInfo": {
     "status": "ok",
     "timestamp": 1728566154996,
     "user_tz": -120,
     "elapsed": 19855,
     "user": {
      "displayName": "Michael Ziegler",
      "userId": "04882649772826203915"
     }
    },
    "outputId": "f0447e4f-d16b-4525-d2a8-a5170b0f54cb",
    "ExecuteTime": {
     "end_time": "2025-10-16T19:55:13.632726Z",
     "start_time": "2025-10-16T19:55:13.289165Z"
    }
   },
   "outputs": [],
   "execution_count": 2
  },
  {
   "cell_type": "code",
   "source": [
    "df.head()"
   ],
   "metadata": {
    "colab": {
     "base_uri": "https://localhost:8080/",
     "height": 206
    },
    "id": "kAoGkFp4grdf",
    "executionInfo": {
     "status": "ok",
     "timestamp": 1728566154997,
     "user_tz": -120,
     "elapsed": 4,
     "user": {
      "displayName": "Michael Ziegler",
      "userId": "04882649772826203915"
     }
    },
    "outputId": "7dde1cb6-aae4-4512-ae53-b1102719a375",
    "ExecuteTime": {
     "end_time": "2025-10-16T19:55:14.702081Z",
     "start_time": "2025-10-16T19:55:14.690586Z"
    }
   },
   "outputs": [
    {
     "data": {
      "text/plain": [
       "  Transaction ID       Country  Amount (USD)   Transaction Type  \\\n",
       "0   TX0000000001        Brazil  3.267530e+06  Offshore Transfer   \n",
       "1   TX0000000002         China  4.965767e+06    Stocks Transfer   \n",
       "2   TX0000000003            UK  9.416750e+04    Stocks Transfer   \n",
       "3   TX0000000004           UAE  3.864201e+05    Cash Withdrawal   \n",
       "4   TX0000000005  South Africa  6.433784e+05     Cryptocurrency   \n",
       "\n",
       "   Date of Transaction Person Involved      Industry Destination Country  \\\n",
       "0  2013-01-01 00:00:00     Person_1101  Construction                 USA   \n",
       "1  2013-01-01 01:00:00     Person_7484  Luxury Goods        South Africa   \n",
       "2  2013-01-01 02:00:00     Person_3655  Construction         Switzerland   \n",
       "3  2013-01-01 03:00:00     Person_3226     Oil & Gas              Russia   \n",
       "4  2013-01-01 04:00:00     Person_7975   Real Estate                 USA   \n",
       "\n",
       "   Reported by Authority Source of Money  Money Laundering Risk Score  \\\n",
       "0                   True         Illegal                            6   \n",
       "1                  False         Illegal                            9   \n",
       "2                   True         Illegal                            1   \n",
       "3                  False         Illegal                            7   \n",
       "4                   True         Illegal                            1   \n",
       "\n",
       "   Shell Companies Involved Financial Institution Tax Haven Country  \n",
       "0                         1               Bank_40         Singapore  \n",
       "1                         0              Bank_461           Bahamas  \n",
       "2                         3              Bank_387       Switzerland  \n",
       "3                         2              Bank_353            Panama  \n",
       "4                         9               Bank_57        Luxembourg  "
      ],
      "text/html": [
       "<div>\n",
       "<style scoped>\n",
       "    .dataframe tbody tr th:only-of-type {\n",
       "        vertical-align: middle;\n",
       "    }\n",
       "\n",
       "    .dataframe tbody tr th {\n",
       "        vertical-align: top;\n",
       "    }\n",
       "\n",
       "    .dataframe thead th {\n",
       "        text-align: right;\n",
       "    }\n",
       "</style>\n",
       "<table border=\"1\" class=\"dataframe\">\n",
       "  <thead>\n",
       "    <tr style=\"text-align: right;\">\n",
       "      <th></th>\n",
       "      <th>Transaction ID</th>\n",
       "      <th>Country</th>\n",
       "      <th>Amount (USD)</th>\n",
       "      <th>Transaction Type</th>\n",
       "      <th>Date of Transaction</th>\n",
       "      <th>Person Involved</th>\n",
       "      <th>Industry</th>\n",
       "      <th>Destination Country</th>\n",
       "      <th>Reported by Authority</th>\n",
       "      <th>Source of Money</th>\n",
       "      <th>Money Laundering Risk Score</th>\n",
       "      <th>Shell Companies Involved</th>\n",
       "      <th>Financial Institution</th>\n",
       "      <th>Tax Haven Country</th>\n",
       "    </tr>\n",
       "  </thead>\n",
       "  <tbody>\n",
       "    <tr>\n",
       "      <th>0</th>\n",
       "      <td>TX0000000001</td>\n",
       "      <td>Brazil</td>\n",
       "      <td>3.267530e+06</td>\n",
       "      <td>Offshore Transfer</td>\n",
       "      <td>2013-01-01 00:00:00</td>\n",
       "      <td>Person_1101</td>\n",
       "      <td>Construction</td>\n",
       "      <td>USA</td>\n",
       "      <td>True</td>\n",
       "      <td>Illegal</td>\n",
       "      <td>6</td>\n",
       "      <td>1</td>\n",
       "      <td>Bank_40</td>\n",
       "      <td>Singapore</td>\n",
       "    </tr>\n",
       "    <tr>\n",
       "      <th>1</th>\n",
       "      <td>TX0000000002</td>\n",
       "      <td>China</td>\n",
       "      <td>4.965767e+06</td>\n",
       "      <td>Stocks Transfer</td>\n",
       "      <td>2013-01-01 01:00:00</td>\n",
       "      <td>Person_7484</td>\n",
       "      <td>Luxury Goods</td>\n",
       "      <td>South Africa</td>\n",
       "      <td>False</td>\n",
       "      <td>Illegal</td>\n",
       "      <td>9</td>\n",
       "      <td>0</td>\n",
       "      <td>Bank_461</td>\n",
       "      <td>Bahamas</td>\n",
       "    </tr>\n",
       "    <tr>\n",
       "      <th>2</th>\n",
       "      <td>TX0000000003</td>\n",
       "      <td>UK</td>\n",
       "      <td>9.416750e+04</td>\n",
       "      <td>Stocks Transfer</td>\n",
       "      <td>2013-01-01 02:00:00</td>\n",
       "      <td>Person_3655</td>\n",
       "      <td>Construction</td>\n",
       "      <td>Switzerland</td>\n",
       "      <td>True</td>\n",
       "      <td>Illegal</td>\n",
       "      <td>1</td>\n",
       "      <td>3</td>\n",
       "      <td>Bank_387</td>\n",
       "      <td>Switzerland</td>\n",
       "    </tr>\n",
       "    <tr>\n",
       "      <th>3</th>\n",
       "      <td>TX0000000004</td>\n",
       "      <td>UAE</td>\n",
       "      <td>3.864201e+05</td>\n",
       "      <td>Cash Withdrawal</td>\n",
       "      <td>2013-01-01 03:00:00</td>\n",
       "      <td>Person_3226</td>\n",
       "      <td>Oil &amp; Gas</td>\n",
       "      <td>Russia</td>\n",
       "      <td>False</td>\n",
       "      <td>Illegal</td>\n",
       "      <td>7</td>\n",
       "      <td>2</td>\n",
       "      <td>Bank_353</td>\n",
       "      <td>Panama</td>\n",
       "    </tr>\n",
       "    <tr>\n",
       "      <th>4</th>\n",
       "      <td>TX0000000005</td>\n",
       "      <td>South Africa</td>\n",
       "      <td>6.433784e+05</td>\n",
       "      <td>Cryptocurrency</td>\n",
       "      <td>2013-01-01 04:00:00</td>\n",
       "      <td>Person_7975</td>\n",
       "      <td>Real Estate</td>\n",
       "      <td>USA</td>\n",
       "      <td>True</td>\n",
       "      <td>Illegal</td>\n",
       "      <td>1</td>\n",
       "      <td>9</td>\n",
       "      <td>Bank_57</td>\n",
       "      <td>Luxembourg</td>\n",
       "    </tr>\n",
       "  </tbody>\n",
       "</table>\n",
       "</div>"
      ]
     },
     "execution_count": 3,
     "metadata": {},
     "output_type": "execute_result"
    }
   ],
   "execution_count": 3
  },
  {
   "metadata": {
    "ExecuteTime": {
     "end_time": "2025-10-16T19:55:19.501402Z",
     "start_time": "2025-10-16T19:55:19.496377Z"
    }
   },
   "cell_type": "code",
   "source": "df.columns",
   "outputs": [
    {
     "data": {
      "text/plain": [
       "Index(['Transaction ID', 'Country', 'Amount (USD)', 'Transaction Type',\n",
       "       'Date of Transaction', 'Person Involved', 'Industry',\n",
       "       'Destination Country', 'Reported by Authority', 'Source of Money',\n",
       "       'Money Laundering Risk Score', 'Shell Companies Involved',\n",
       "       'Financial Institution', 'Tax Haven Country'],\n",
       "      dtype='object')"
      ]
     },
     "execution_count": 4,
     "metadata": {},
     "output_type": "execute_result"
    }
   ],
   "execution_count": 4
  },
  {
   "metadata": {
    "ExecuteTime": {
     "end_time": "2025-10-16T19:55:25.184630Z",
     "start_time": "2025-10-16T19:55:25.179644Z"
    }
   },
   "cell_type": "code",
   "source": "df.shape",
   "outputs": [
    {
     "data": {
      "text/plain": [
       "(10000, 14)"
      ]
     },
     "execution_count": 5,
     "metadata": {},
     "output_type": "execute_result"
    }
   ],
   "execution_count": 5
  },
  {
   "cell_type": "code",
   "source": [
    "# Das Feature \"Country\" auf Konsistenz prüfen\n",
    "df['Country'].unique()"
   ],
   "metadata": {
    "colab": {
     "base_uri": "https://localhost:8080/"
    },
    "id": "ZSHObWTuiEXD",
    "executionInfo": {
     "status": "ok",
     "timestamp": 1728566161485,
     "user_tz": -120,
     "elapsed": 277,
     "user": {
      "displayName": "Michael Ziegler",
      "userId": "04882649772826203915"
     }
    },
    "outputId": "54e6dd66-0bca-4f99-d308-94edd74486e9",
    "ExecuteTime": {
     "end_time": "2025-10-16T19:55:32.165038Z",
     "start_time": "2025-10-16T19:55:32.159898Z"
    }
   },
   "outputs": [
    {
     "data": {
      "text/plain": [
       "array(['Brazil', 'China', 'UK', 'UAE', 'South Africa', 'Russia',\n",
       "       'Switzerland', 'India', 'USA', 'Singapore'], dtype=object)"
      ]
     },
     "execution_count": 6,
     "metadata": {},
     "output_type": "execute_result"
    }
   ],
   "execution_count": 6
  },
  {
   "metadata": {
    "ExecuteTime": {
     "end_time": "2025-10-09T11:40:31.323314Z",
     "start_time": "2025-10-09T11:40:31.316895Z"
    }
   },
   "cell_type": "code",
   "source": [
    "# Das Feature \"Transaction Type\" auf Konsistenz prüfen\n",
    "df['Transaction Type'].unique()"
   ],
   "outputs": [
    {
     "data": {
      "text/plain": [
       "array(['Offshore Transfer', 'Stocks Transfer', 'Cash Withdrawal',\n",
       "       'Cryptocurrency', 'Property Purchase'], dtype=object)"
      ]
     },
     "execution_count": 4,
     "metadata": {},
     "output_type": "execute_result"
    }
   ],
   "execution_count": 4
  },
  {
   "metadata": {
    "ExecuteTime": {
     "end_time": "2025-10-09T11:42:20.673837Z",
     "start_time": "2025-10-09T11:42:20.664297Z"
    }
   },
   "cell_type": "code",
   "source": "df['Industry'].unique()",
   "outputs": [
    {
     "data": {
      "text/plain": [
       "array(['Construction', 'Luxury Goods', 'Oil & Gas', 'Real Estate',\n",
       "       'Arms Trade', 'Casinos', 'Finance'], dtype=object)"
      ]
     },
     "execution_count": 5,
     "metadata": {},
     "output_type": "execute_result"
    }
   ],
   "execution_count": 5
  },
  {
   "metadata": {
    "ExecuteTime": {
     "end_time": "2025-10-09T11:42:53.495989Z",
     "start_time": "2025-10-09T11:42:53.492426Z"
    }
   },
   "cell_type": "code",
   "source": "df['Destination Country'].unique()",
   "outputs": [
    {
     "data": {
      "text/plain": [
       "array(['USA', 'South Africa', 'Switzerland', 'Russia', 'Brazil', 'UK',\n",
       "       'India', 'China', 'Singapore', 'UAE'], dtype=object)"
      ]
     },
     "execution_count": 6,
     "metadata": {},
     "output_type": "execute_result"
    }
   ],
   "execution_count": 6
  },
  {
   "metadata": {
    "ExecuteTime": {
     "end_time": "2025-10-09T11:44:52.989355Z",
     "start_time": "2025-10-09T11:44:52.978389Z"
    }
   },
   "cell_type": "code",
   "source": "df['Source of Money'].unique()\n",
   "outputs": [
    {
     "data": {
      "text/plain": [
       "array(['Illegal', 'Legal'], dtype=object)"
      ]
     },
     "execution_count": 9,
     "metadata": {},
     "output_type": "execute_result"
    }
   ],
   "execution_count": 9
  },
  {
   "metadata": {
    "ExecuteTime": {
     "end_time": "2025-10-09T13:39:45.570647Z",
     "start_time": "2025-10-09T13:39:45.560889Z"
    }
   },
   "cell_type": "code",
   "source": "df['Transaction Type'].unique()",
   "outputs": [
    {
     "data": {
      "text/plain": [
       "array(['Offshore Transfer', 'Stocks Transfer', 'Cash Withdrawal',\n",
       "       'Cryptocurrency', 'Property Purchase'], dtype=object)"
      ]
     },
     "execution_count": 36,
     "metadata": {},
     "output_type": "execute_result"
    }
   ],
   "execution_count": 36
  },
  {
   "metadata": {
    "ExecuteTime": {
     "end_time": "2025-10-09T12:18:38.075219Z",
     "start_time": "2025-10-09T12:18:38.057129Z"
    }
   },
   "cell_type": "code",
   "source": "df[df.duplicated()].head()",
   "outputs": [
    {
     "data": {
      "text/plain": [
       "Empty DataFrame\n",
       "Columns: [Transaction ID, Country, Amount (USD), Transaction Type, Date of Transaction, Person Involved, Industry, Destination Country, Reported by Authority, Source of Money, Money Laundering Risk Score, Shell Companies Involved, Financial Institution, Tax Haven Country]\n",
       "Index: []"
      ],
      "text/html": [
       "<div>\n",
       "<style scoped>\n",
       "    .dataframe tbody tr th:only-of-type {\n",
       "        vertical-align: middle;\n",
       "    }\n",
       "\n",
       "    .dataframe tbody tr th {\n",
       "        vertical-align: top;\n",
       "    }\n",
       "\n",
       "    .dataframe thead th {\n",
       "        text-align: right;\n",
       "    }\n",
       "</style>\n",
       "<table border=\"1\" class=\"dataframe\">\n",
       "  <thead>\n",
       "    <tr style=\"text-align: right;\">\n",
       "      <th></th>\n",
       "      <th>Transaction ID</th>\n",
       "      <th>Country</th>\n",
       "      <th>Amount (USD)</th>\n",
       "      <th>Transaction Type</th>\n",
       "      <th>Date of Transaction</th>\n",
       "      <th>Person Involved</th>\n",
       "      <th>Industry</th>\n",
       "      <th>Destination Country</th>\n",
       "      <th>Reported by Authority</th>\n",
       "      <th>Source of Money</th>\n",
       "      <th>Money Laundering Risk Score</th>\n",
       "      <th>Shell Companies Involved</th>\n",
       "      <th>Financial Institution</th>\n",
       "      <th>Tax Haven Country</th>\n",
       "    </tr>\n",
       "  </thead>\n",
       "  <tbody>\n",
       "  </tbody>\n",
       "</table>\n",
       "</div>"
      ]
     },
     "execution_count": 14,
     "metadata": {},
     "output_type": "execute_result"
    }
   ],
   "execution_count": 14
  },
  {
   "cell_type": "code",
   "source": [
    "# Prüfen, ob irgendwo Daten fehlen\n",
    "df.isnull().sum()"
   ],
   "metadata": {
    "colab": {
     "base_uri": "https://localhost:8080/",
     "height": 649
    },
    "id": "cW7AgujfgzQZ",
    "executionInfo": {
     "status": "ok",
     "timestamp": 1728566164011,
     "user_tz": -120,
     "elapsed": 269,
     "user": {
      "displayName": "Michael Ziegler",
      "userId": "04882649772826203915"
     }
    },
    "outputId": "1f63f618-a492-4c33-bbd0-c8a8db11c168",
    "ExecuteTime": {
     "end_time": "2025-10-09T11:24:20.044190Z",
     "start_time": "2025-10-09T11:24:20.035567Z"
    }
   },
   "outputs": [
    {
     "data": {
      "text/plain": [
       "RowNumber             0\n",
       "CustomerId            0\n",
       "Surname               0\n",
       "CreditScore           0\n",
       "Geography             0\n",
       "Gender                0\n",
       "Age                   0\n",
       "Tenure                0\n",
       "Balance               0\n",
       "NumOfProducts         0\n",
       "HasCrCard             0\n",
       "IsActiveMember        0\n",
       "EstimatedSalary       5\n",
       "Exited                0\n",
       "Complain              0\n",
       "Satisfaction Score    0\n",
       "Card Type             0\n",
       "Point Earned          0\n",
       "dtype: int64"
      ]
     },
     "execution_count": 4,
     "metadata": {},
     "output_type": "execute_result"
    }
   ],
   "execution_count": 4
  },
  {
   "cell_type": "code",
   "source": [
    "# Das Feature \"CreditScore\" auf Ausreisser prüfen\n",
    "Q1 = df[\"Amount (USD)\"].quantile(0.25)\n",
    "Q3 = df[\"Amount (USD)\"].quantile(0.75)\n",
    "IQR = Q3 - Q1\n",
    "lower_bound = Q1 - 1.5 * IQR\n",
    "upper_bound = Q3 + 1.5 * IQR\n",
    "outliers = df[(df[\"Amount (USD)\"] < lower_bound) | (df[\"Amount (USD)\"] > upper_bound)]\n",
    "print(Q1)\n",
    "print(Q3)\n",
    "print(IQR)\n",
    "print(outliers[\"Amount (USD)\"])\n"
   ],
   "metadata": {
    "colab": {
     "base_uri": "https://localhost:8080/"
    },
    "id": "a9Ao1AeFhcRa",
    "executionInfo": {
     "status": "ok",
     "timestamp": 1728566171267,
     "user_tz": -120,
     "elapsed": 289,
     "user": {
      "displayName": "Michael Ziegler",
      "userId": "04882649772826203915"
     }
    },
    "outputId": "64402e1e-9c02-49f1-dc47-30396cff6fbc",
    "ExecuteTime": {
     "end_time": "2025-10-09T11:46:35.531527Z",
     "start_time": "2025-10-09T11:46:35.522472Z"
    }
   },
   "outputs": [
    {
     "name": "stdout",
     "output_type": "stream",
     "text": [
      "1279005.2835407348\n",
      "3722416.45327961\n",
      "2443411.169738875\n",
      "Series([], Name: Amount (USD), dtype: float64)\n"
     ]
    }
   ],
   "execution_count": 11
  },
  {
   "cell_type": "code",
   "source": [
    "# in der Spalte \"CreditScore\" die Zeilen entfernen, die ein Ausreisser sind\n",
    "df = df[(df[\"CreditScore\"] >= lower_bound) & (df[\"CreditScore\"] <= upper_bound)]"
   ],
   "metadata": {
    "id": "jBjwtEaarf01",
    "ExecuteTime": {
     "end_time": "2025-10-03T06:39:56.238357Z",
     "start_time": "2025-10-03T06:39:56.230084Z"
    }
   },
   "outputs": [],
   "execution_count": 8
  },
  {
   "metadata": {
    "ExecuteTime": {
     "end_time": "2025-10-09T12:18:55.796031Z",
     "start_time": "2025-10-09T12:18:55.782936Z"
    }
   },
   "cell_type": "code",
   "source": [
    "# Beispiel: Spalte \"Country\" prüfen (ersetze mit deinem Spaltennamen)\n",
    "col = \"Country\"\n",
    "\n",
    "print(\"Anzahl unterschiedlicher Werte:\", df[col].nunique())\n",
    "print(\"Top 10 häufigste Werte:\")\n",
    "print(df[col].value_counts().head(10))\n",
    "\n",
    "# mögliche Tippfehler / Varianten sichtbar machen\n",
    "print(\"\\nAlle Werte (sortiert):\")\n",
    "print(sorted(df[col].dropna().unique())[:50])  # nur die ersten 50 anzeigen\n"
   ],
   "outputs": [
    {
     "name": "stdout",
     "output_type": "stream",
     "text": [
      "Anzahl unterschiedlicher Werte: 10\n",
      "Top 10 häufigste Werte:\n",
      "Country\n",
      "China           1038\n",
      "South Africa    1026\n",
      "UK              1014\n",
      "Brazil          1006\n",
      "Russia           997\n",
      "Singapore        995\n",
      "India            990\n",
      "Switzerland      985\n",
      "UAE              976\n",
      "USA              973\n",
      "Name: count, dtype: int64\n",
      "\n",
      "Alle Werte (sortiert):\n",
      "['Brazil', 'China', 'India', 'Russia', 'Singapore', 'South Africa', 'Switzerland', 'UAE', 'UK', 'USA']\n"
     ]
    }
   ],
   "execution_count": 15
  },
  {
   "metadata": {
    "ExecuteTime": {
     "end_time": "2025-10-09T12:19:44.049444Z",
     "start_time": "2025-10-09T12:19:44.035649Z"
    }
   },
   "cell_type": "code",
   "source": [
    "# Beispiel: Spalte \"Amount\" prüfen (ersetze mit deinem Spaltennamen)\n",
    "col = \"Amount (USD)\"\n",
    "\n",
    "print(df[col].describe())   # zeigt min, max, Mittelwert, Quartile\n",
    "\n",
    "# einfache Regel: Werte größer als Q3 + 1.5*IQR oder kleiner als Q1 - 1.5*IQR\n",
    "Q1 = df[col].quantile(0.25)\n",
    "Q3 = df[col].quantile(0.75)\n",
    "IQR = Q3 - Q1\n",
    "lower_bound = Q1 - 1.5 * IQR\n",
    "upper_bound = Q3 + 1.5 * IQR\n",
    "\n",
    "outliers = df[(df[col] < lower_bound) | (df[col] > upper_bound)]\n",
    "print(\"Anzahl Ausreißer:\", len(outliers))\n",
    "outliers.head()\n"
   ],
   "outputs": [
    {
     "name": "stdout",
     "output_type": "stream",
     "text": [
      "count    1.000000e+04\n",
      "mean     2.501818e+06\n",
      "std      1.424364e+06\n",
      "min      1.003180e+04\n",
      "25%      1.279005e+06\n",
      "50%      2.501310e+06\n",
      "75%      3.722416e+06\n",
      "max      4.999812e+06\n",
      "Name: Amount (USD), dtype: float64\n",
      "Anzahl Ausreißer: 0\n"
     ]
    },
    {
     "data": {
      "text/plain": [
       "Empty DataFrame\n",
       "Columns: [Transaction ID, Country, Amount (USD), Transaction Type, Date of Transaction, Person Involved, Industry, Destination Country, Reported by Authority, Source of Money, Money Laundering Risk Score, Shell Companies Involved, Financial Institution, Tax Haven Country]\n",
       "Index: []"
      ],
      "text/html": [
       "<div>\n",
       "<style scoped>\n",
       "    .dataframe tbody tr th:only-of-type {\n",
       "        vertical-align: middle;\n",
       "    }\n",
       "\n",
       "    .dataframe tbody tr th {\n",
       "        vertical-align: top;\n",
       "    }\n",
       "\n",
       "    .dataframe thead th {\n",
       "        text-align: right;\n",
       "    }\n",
       "</style>\n",
       "<table border=\"1\" class=\"dataframe\">\n",
       "  <thead>\n",
       "    <tr style=\"text-align: right;\">\n",
       "      <th></th>\n",
       "      <th>Transaction ID</th>\n",
       "      <th>Country</th>\n",
       "      <th>Amount (USD)</th>\n",
       "      <th>Transaction Type</th>\n",
       "      <th>Date of Transaction</th>\n",
       "      <th>Person Involved</th>\n",
       "      <th>Industry</th>\n",
       "      <th>Destination Country</th>\n",
       "      <th>Reported by Authority</th>\n",
       "      <th>Source of Money</th>\n",
       "      <th>Money Laundering Risk Score</th>\n",
       "      <th>Shell Companies Involved</th>\n",
       "      <th>Financial Institution</th>\n",
       "      <th>Tax Haven Country</th>\n",
       "    </tr>\n",
       "  </thead>\n",
       "  <tbody>\n",
       "  </tbody>\n",
       "</table>\n",
       "</div>"
      ]
     },
     "execution_count": 17,
     "metadata": {},
     "output_type": "execute_result"
    }
   ],
   "execution_count": 17
  },
  {
   "metadata": {},
   "cell_type": "markdown",
   "source": [
    "## Feature Engineering: Neue Ratios erstellen\n",
    "\n",
    "Erstelle zwei neue Features als Verhältnisse (Ratios):\n",
    "1. **Amount / Balance**: Transaktion im Verhältnis zum Kontoguthaben\n",
    "2. **Debt / Income**: Schuldenquote im Verhältnis zum Einkommen"
   ]
  },
  {
   "metadata": {
    "ExecuteTime": {
     "end_time": "2025-10-09T12:35:24.176380Z",
     "start_time": "2025-10-09T12:35:24.170416Z"
    }
   },
   "cell_type": "code",
   "source": "df.groupby(\"Industry\")[\"Amount (USD)\"].transform(\"mean\")",
   "outputs": [
    {
     "data": {
      "text/plain": [
       "0       2.538177e+06\n",
       "1       2.465999e+06\n",
       "2       2.538177e+06\n",
       "3       2.466224e+06\n",
       "4       2.478126e+06\n",
       "            ...     \n",
       "9995    2.478126e+06\n",
       "9996    2.465999e+06\n",
       "9997    2.466224e+06\n",
       "9998    2.478126e+06\n",
       "9999    2.546362e+06\n",
       "Name: Amount (USD), Length: 10000, dtype: float64"
      ]
     },
     "execution_count": 33,
     "metadata": {},
     "output_type": "execute_result"
    }
   ],
   "execution_count": 33
  },
  {
   "metadata": {
    "ExecuteTime": {
     "end_time": "2025-10-09T13:40:59.030319Z",
     "start_time": "2025-10-09T13:40:58.826369Z"
    }
   },
   "cell_type": "code",
   "source": "df.hist()",
   "outputs": [
    {
     "data": {
      "text/plain": [
       "array([[<Axes: title={'center': 'Amount (USD)'}>,\n",
       "        <Axes: title={'center': 'Money Laundering Risk Score'}>],\n",
       "       [<Axes: title={'center': 'Shell Companies Involved'}>, <Axes: >]],\n",
       "      dtype=object)"
      ]
     },
     "execution_count": 38,
     "metadata": {},
     "output_type": "execute_result"
    },
    {
     "data": {
      "text/plain": [
       "<Figure size 640x480 with 4 Axes>"
      ],
      "image/png": "[encoded data removed]"
     },
     "metadata": {},
     "output_type": "display_data",
     "jetTransient": {
      "display_id": null
     }
    }
   ],
   "execution_count": 38
  },
  {
   "metadata": {
    "ExecuteTime": {
     "end_time": "2025-10-09T13:44:46.842294Z",
     "start_time": "2025-10-09T13:44:46.817480Z"
    }
   },
   "cell_type": "code",
   "source": "df = pd.get_dummies(df, columns=['Transaction Type'])",
   "outputs": [],
   "execution_count": 39
  },
  {
   "metadata": {
    "ExecuteTime": {
     "end_time": "2025-10-09T13:44:53.209515Z",
     "start_time": "2025-10-09T13:44:53.187046Z"
    }
   },
   "cell_type": "code",
   "source": "df.head()",
   "outputs": [
    {
     "data": {
      "text/plain": [
       "  Transaction ID       Country  Amount (USD)  Date of Transaction  \\\n",
       "0   TX0000000001        Brazil  3.267530e+06  2013-01-01 00:00:00   \n",
       "1   TX0000000002         China  4.965767e+06  2013-01-01 01:00:00   \n",
       "2   TX0000000003            UK  9.416750e+04  2013-01-01 02:00:00   \n",
       "3   TX0000000004           UAE  3.864201e+05  2013-01-01 03:00:00   \n",
       "4   TX0000000005  South Africa  6.433784e+05  2013-01-01 04:00:00   \n",
       "\n",
       "  Person Involved      Industry Destination Country  Reported by Authority  \\\n",
       "0     Person_1101  Construction                 USA                   True   \n",
       "1     Person_7484  Luxury Goods        South Africa                  False   \n",
       "2     Person_3655  Construction         Switzerland                   True   \n",
       "3     Person_3226     Oil & Gas              Russia                  False   \n",
       "4     Person_7975   Real Estate                 USA                   True   \n",
       "\n",
       "  Source of Money  Money Laundering Risk Score  Shell Companies Involved  \\\n",
       "0         Illegal                            6                         1   \n",
       "1         Illegal                            9                         0   \n",
       "2         Illegal                            1                         3   \n",
       "3         Illegal                            7                         2   \n",
       "4         Illegal                            1                         9   \n",
       "\n",
       "  Financial Institution Tax Haven Country  Transaction Type_Cash Withdrawal  \\\n",
       "0               Bank_40         Singapore                             False   \n",
       "1              Bank_461           Bahamas                             False   \n",
       "2              Bank_387       Switzerland                             False   \n",
       "3              Bank_353            Panama                              True   \n",
       "4               Bank_57        Luxembourg                             False   \n",
       "\n",
       "   Transaction Type_Cryptocurrency  Transaction Type_Offshore Transfer  \\\n",
       "0                            False                                True   \n",
       "1                            False                               False   \n",
       "2                            False                               False   \n",
       "3                            False                               False   \n",
       "4                             True                               False   \n",
       "\n",
       "   Transaction Type_Property Purchase  Transaction Type_Stocks Transfer  \n",
       "0                               False                             False  \n",
       "1                               False                              True  \n",
       "2                               False                              True  \n",
       "3                               False                             False  \n",
       "4                               False                             False  "
      ],
      "text/html": [
       "<div>\n",
       "<style scoped>\n",
       "    .dataframe tbody tr th:only-of-type {\n",
       "        vertical-align: middle;\n",
       "    }\n",
       "\n",
       "    .dataframe tbody tr th {\n",
       "        vertical-align: top;\n",
       "    }\n",
       "\n",
       "    .dataframe thead th {\n",
       "        text-align: right;\n",
       "    }\n",
       "</style>\n",
       "<table border=\"1\" class=\"dataframe\">\n",
       "  <thead>\n",
       "    <tr style=\"text-align: right;\">\n",
       "      <th></th>\n",
       "      <th>Transaction ID</th>\n",
       "      <th>Country</th>\n",
       "      <th>Amount (USD)</th>\n",
       "      <th>Date of Transaction</th>\n",
       "      <th>Person Involved</th>\n",
       "      <th>Industry</th>\n",
       "      <th>Destination Country</th>\n",
       "      <th>Reported by Authority</th>\n",
       "      <th>Source of Money</th>\n",
       "      <th>Money Laundering Risk Score</th>\n",
       "      <th>Shell Companies Involved</th>\n",
       "      <th>Financial Institution</th>\n",
       "      <th>Tax Haven Country</th>\n",
       "      <th>Transaction Type_Cash Withdrawal</th>\n",
       "      <th>Transaction Type_Cryptocurrency</th>\n",
       "      <th>Transaction Type_Offshore Transfer</th>\n",
       "      <th>Transaction Type_Property Purchase</th>\n",
       "      <th>Transaction Type_Stocks Transfer</th>\n",
       "    </tr>\n",
       "  </thead>\n",
       "  <tbody>\n",
       "    <tr>\n",
       "      <th>0</th>\n",
       "      <td>TX0000000001</td>\n",
       "      <td>Brazil</td>\n",
       "      <td>3.267530e+06</td>\n",
       "      <td>2013-01-01 00:00:00</td>\n",
       "      <td>Person_1101</td>\n",
       "      <td>Construction</td>\n",
       "      <td>USA</td>\n",
       "      <td>True</td>\n",
       "      <td>Illegal</td>\n",
       "      <td>6</td>\n",
       "      <td>1</td>\n",
       "      <td>Bank_40</td>\n",
       "      <td>Singapore</td>\n",
       "      <td>False</td>\n",
       "      <td>False</td>\n",
       "      <td>True</td>\n",
       "      <td>False</td>\n",
       "      <td>False</td>\n",
       "    </tr>\n",
       "    <tr>\n",
       "      <th>1</th>\n",
       "      <td>TX0000000002</td>\n",
       "      <td>China</td>\n",
       "      <td>4.965767e+06</td>\n",
       "      <td>2013-01-01 01:00:00</td>\n",
       "      <td>Person_7484</td>\n",
       "      <td>Luxury Goods</td>\n",
       "      <td>South Africa</td>\n",
       "      <td>False</td>\n",
       "      <td>Illegal</td>\n",
       "      <td>9</td>\n",
       "      <td>0</td>\n",
       "      <td>Bank_461</td>\n",
       "      <td>Bahamas</td>\n",
       "      <td>False</td>\n",
       "      <td>False</td>\n",
       "      <td>False</td>\n",
       "      <td>False</td>\n",
       "      <td>True</td>\n",
       "    </tr>\n",
       "    <tr>\n",
       "      <th>2</th>\n",
       "      <td>TX0000000003</td>\n",
       "      <td>UK</td>\n",
       "      <td>9.416750e+04</td>\n",
       "      <td>2013-01-01 02:00:00</td>\n",
       "      <td>Person_3655</td>\n",
       "      <td>Construction</td>\n",
       "      <td>Switzerland</td>\n",
       "      <td>True</td>\n",
       "      <td>Illegal</td>\n",
       "      <td>1</td>\n",
       "      <td>3</td>\n",
       "      <td>Bank_387</td>\n",
       "      <td>Switzerland</td>\n",
       "      <td>False</td>\n",
       "      <td>False</td>\n",
       "      <td>False</td>\n",
       "      <td>False</td>\n",
       "      <td>True</td>\n",
       "    </tr>\n",
       "    <tr>\n",
       "      <th>3</th>\n",
       "      <td>TX0000000004</td>\n",
       "      <td>UAE</td>\n",
       "      <td>3.864201e+05</td>\n",
       "      <td>2013-01-01 03:00:00</td>\n",
       "      <td>Person_3226</td>\n",
       "      <td>Oil &amp; Gas</td>\n",
       "      <td>Russia</td>\n",
       "      <td>False</td>\n",
       "      <td>Illegal</td>\n",
       "      <td>7</td>\n",
       "      <td>2</td>\n",
       "      <td>Bank_353</td>\n",
       "      <td>Panama</td>\n",
       "      <td>True</td>\n",
       "      <td>False</td>\n",
       "      <td>False</td>\n",
       "      <td>False</td>\n",
       "      <td>False</td>\n",
       "    </tr>\n",
       "    <tr>\n",
       "      <th>4</th>\n",
       "      <td>TX0000000005</td>\n",
       "      <td>South Africa</td>\n",
       "      <td>6.433784e+05</td>\n",
       "      <td>2013-01-01 04:00:00</td>\n",
       "      <td>Person_7975</td>\n",
       "      <td>Real Estate</td>\n",
       "      <td>USA</td>\n",
       "      <td>True</td>\n",
       "      <td>Illegal</td>\n",
       "      <td>1</td>\n",
       "      <td>9</td>\n",
       "      <td>Bank_57</td>\n",
       "      <td>Luxembourg</td>\n",
       "      <td>False</td>\n",
       "      <td>True</td>\n",
       "      <td>False</td>\n",
       "      <td>False</td>\n",
       "      <td>False</td>\n",
       "    </tr>\n",
       "  </tbody>\n",
       "</table>\n",
       "</div>"
      ]
     },
     "execution_count": 40,
     "metadata": {},
     "output_type": "execute_result"
    }
   ],
   "execution_count": 40
  },
  {
   "metadata": {},
   "cell_type": "markdown",
   "source": [
    "## Dateninkosistenz\n",
    "eventuell Country setzen\n",
    "date of transaction in datetime verwandeln\n",
    "\n",
    "\n",
    "Featureengineering:\n",
    "Country noch nach Kontinent oder nach BIP klassifizieren\n",
    "inlands und auslangstransaktionen\n",
    "source of money noch aufteilen in bool\n",
    "nummern mit skalen angleichen -> es ist nicht normalverteilt deshalb skalen dings bums\n",
    "one hot encoding anwenden für industry"
   ]
  },
  {
   "metadata": {},
   "cell_type": "code",
   "outputs": [],
   "execution_count": null,
   "source": ""
  }
 ]
}
