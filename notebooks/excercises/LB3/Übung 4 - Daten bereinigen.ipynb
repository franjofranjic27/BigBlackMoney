{
 "nbformat": 4,
 "nbformat_minor": 0,
 "metadata": {
  "colab": {
   "provenance": [],
   "authorship_tag": "ABX9TyPc8qpeRDwAkx9+gj6Dc1E6"
  },
  "kernelspec": {
   "name": "python3",
   "display_name": "Python 3 (ipykernel)",
   "language": "python"
  },
  "language_info": {
   "name": "python"
  }
 },
 "cells": [
  {
   "cell_type": "markdown",
   "source": [
    "# Übung 4 - Daten bereinigen"
   ],
   "metadata": {
    "id": "BoRGP7mZFZDP"
   }
  },
  {
   "cell_type": "code",
   "source": [
    "### Daten einlesen - VORSICHT: Absichtlich \"manipulierte\" Daten\n",
    "## Daten von Kaggle: https://www.kaggle.com/datasets/radheshyamkollipara/bank-customer-churn/data\n",
    "\n",
    "# CSV-File einlesen - mit Library pandas\n",
    "import pandas as pd\n",
    "df = pd.read_csv('../../../data/Customer-Churn-Records_dirty.csv')"
   ],
   "metadata": {
    "colab": {
     "base_uri": "https://localhost:8080/"
    },
    "id": "tEVKzz-3ghfH",
    "executionInfo": {
     "status": "ok",
     "timestamp": 1728566154996,
     "user_tz": -120,
     "elapsed": 19855,
     "user": {
      "displayName": "Michael Ziegler",
      "userId": "04882649772826203915"
     }
    },
    "outputId": "f0447e4f-d16b-4525-d2a8-a5170b0f54cb",
    "ExecuteTime": {
     "end_time": "2025-10-03T06:39:56.065464Z",
     "start_time": "2025-10-03T06:39:55.820600Z"
    }
   },
   "outputs": [],
   "execution_count": 1
  },
  {
   "cell_type": "code",
   "source": [
    "df.head()"
   ],
   "metadata": {
    "colab": {
     "base_uri": "https://localhost:8080/",
     "height": 206
    },
    "id": "kAoGkFp4grdf",
    "executionInfo": {
     "status": "ok",
     "timestamp": 1728566154997,
     "user_tz": -120,
     "elapsed": 4,
     "user": {
      "displayName": "Michael Ziegler",
      "userId": "04882649772826203915"
     }
    },
    "outputId": "7dde1cb6-aae4-4512-ae53-b1102719a375",
    "ExecuteTime": {
     "end_time": "2025-10-03T06:39:56.084544Z",
     "start_time": "2025-10-03T06:39:56.069336Z"
    }
   },
   "outputs": [
    {
     "data": {
      "text/plain": [
       "   RowNumber  CustomerId   Surname  CreditScore Geography  Gender  Age  \\\n",
       "0          1    15634602  Hargrave          619    France  Female   42   \n",
       "1          2    15647311      Hill          608     Spain  Female   41   \n",
       "2          3    15619304      Onio          502    France  Female   42   \n",
       "3          4    15701354      Boni          699    France  Female   39   \n",
       "4          5    15737888  Mitchell          850     Spain  Female   43   \n",
       "\n",
       "   Tenure    Balance  NumOfProducts  HasCrCard  IsActiveMember  \\\n",
       "0       2       0.00              1          1               1   \n",
       "1       1   83807.86              1          0               1   \n",
       "2       8  159660.80              3          1               0   \n",
       "3       1       0.00              2          0               0   \n",
       "4       2  125510.82              1          1               1   \n",
       "\n",
       "   EstimatedSalary  Exited  Complain  Satisfaction Score Card Type  \\\n",
       "0        101348.88       1         1                   2   DIAMOND   \n",
       "1        112542.58       0         1                   3   DIAMOND   \n",
       "2        113931.57       1         1                   3   DIAMOND   \n",
       "3         93826.63       0         0                   5      GOLD   \n",
       "4         79084.10       0         0                   5      GOLD   \n",
       "\n",
       "   Point Earned  \n",
       "0           464  \n",
       "1           456  \n",
       "2           377  \n",
       "3           350  \n",
       "4           425  "
      ],
      "text/html": [
       "<div>\n",
       "<style scoped>\n",
       "    .dataframe tbody tr th:only-of-type {\n",
       "        vertical-align: middle;\n",
       "    }\n",
       "\n",
       "    .dataframe tbody tr th {\n",
       "        vertical-align: top;\n",
       "    }\n",
       "\n",
       "    .dataframe thead th {\n",
       "        text-align: right;\n",
       "    }\n",
       "</style>\n",
       "<table border=\"1\" class=\"dataframe\">\n",
       "  <thead>\n",
       "    <tr style=\"text-align: right;\">\n",
       "      <th></th>\n",
       "      <th>RowNumber</th>\n",
       "      <th>CustomerId</th>\n",
       "      <th>Surname</th>\n",
       "      <th>CreditScore</th>\n",
       "      <th>Geography</th>\n",
       "      <th>Gender</th>\n",
       "      <th>Age</th>\n",
       "      <th>Tenure</th>\n",
       "      <th>Balance</th>\n",
       "      <th>NumOfProducts</th>\n",
       "      <th>HasCrCard</th>\n",
       "      <th>IsActiveMember</th>\n",
       "      <th>EstimatedSalary</th>\n",
       "      <th>Exited</th>\n",
       "      <th>Complain</th>\n",
       "      <th>Satisfaction Score</th>\n",
       "      <th>Card Type</th>\n",
       "      <th>Point Earned</th>\n",
       "    </tr>\n",
       "  </thead>\n",
       "  <tbody>\n",
       "    <tr>\n",
       "      <th>0</th>\n",
       "      <td>1</td>\n",
       "      <td>15634602</td>\n",
       "      <td>Hargrave</td>\n",
       "      <td>619</td>\n",
       "      <td>France</td>\n",
       "      <td>Female</td>\n",
       "      <td>42</td>\n",
       "      <td>2</td>\n",
       "      <td>0.00</td>\n",
       "      <td>1</td>\n",
       "      <td>1</td>\n",
       "      <td>1</td>\n",
       "      <td>101348.88</td>\n",
       "      <td>1</td>\n",
       "      <td>1</td>\n",
       "      <td>2</td>\n",
       "      <td>DIAMOND</td>\n",
       "      <td>464</td>\n",
       "    </tr>\n",
       "    <tr>\n",
       "      <th>1</th>\n",
       "      <td>2</td>\n",
       "      <td>15647311</td>\n",
       "      <td>Hill</td>\n",
       "      <td>608</td>\n",
       "      <td>Spain</td>\n",
       "      <td>Female</td>\n",
       "      <td>41</td>\n",
       "      <td>1</td>\n",
       "      <td>83807.86</td>\n",
       "      <td>1</td>\n",
       "      <td>0</td>\n",
       "      <td>1</td>\n",
       "      <td>112542.58</td>\n",
       "      <td>0</td>\n",
       "      <td>1</td>\n",
       "      <td>3</td>\n",
       "      <td>DIAMOND</td>\n",
       "      <td>456</td>\n",
       "    </tr>\n",
       "    <tr>\n",
       "      <th>2</th>\n",
       "      <td>3</td>\n",
       "      <td>15619304</td>\n",
       "      <td>Onio</td>\n",
       "      <td>502</td>\n",
       "      <td>France</td>\n",
       "      <td>Female</td>\n",
       "      <td>42</td>\n",
       "      <td>8</td>\n",
       "      <td>159660.80</td>\n",
       "      <td>3</td>\n",
       "      <td>1</td>\n",
       "      <td>0</td>\n",
       "      <td>113931.57</td>\n",
       "      <td>1</td>\n",
       "      <td>1</td>\n",
       "      <td>3</td>\n",
       "      <td>DIAMOND</td>\n",
       "      <td>377</td>\n",
       "    </tr>\n",
       "    <tr>\n",
       "      <th>3</th>\n",
       "      <td>4</td>\n",
       "      <td>15701354</td>\n",
       "      <td>Boni</td>\n",
       "      <td>699</td>\n",
       "      <td>France</td>\n",
       "      <td>Female</td>\n",
       "      <td>39</td>\n",
       "      <td>1</td>\n",
       "      <td>0.00</td>\n",
       "      <td>2</td>\n",
       "      <td>0</td>\n",
       "      <td>0</td>\n",
       "      <td>93826.63</td>\n",
       "      <td>0</td>\n",
       "      <td>0</td>\n",
       "      <td>5</td>\n",
       "      <td>GOLD</td>\n",
       "      <td>350</td>\n",
       "    </tr>\n",
       "    <tr>\n",
       "      <th>4</th>\n",
       "      <td>5</td>\n",
       "      <td>15737888</td>\n",
       "      <td>Mitchell</td>\n",
       "      <td>850</td>\n",
       "      <td>Spain</td>\n",
       "      <td>Female</td>\n",
       "      <td>43</td>\n",
       "      <td>2</td>\n",
       "      <td>125510.82</td>\n",
       "      <td>1</td>\n",
       "      <td>1</td>\n",
       "      <td>1</td>\n",
       "      <td>79084.10</td>\n",
       "      <td>0</td>\n",
       "      <td>0</td>\n",
       "      <td>5</td>\n",
       "      <td>GOLD</td>\n",
       "      <td>425</td>\n",
       "    </tr>\n",
       "  </tbody>\n",
       "</table>\n",
       "</div>"
      ]
     },
     "execution_count": 2,
     "metadata": {},
     "output_type": "execute_result"
    }
   ],
   "execution_count": 2
  },
  {
   "cell_type": "code",
   "source": [
    "# Das Feature \"Gender\" auf Konsistenz prüfen\n",
    "df['Gender'].unique()"
   ],
   "metadata": {
    "colab": {
     "base_uri": "https://localhost:8080/"
    },
    "id": "ZSHObWTuiEXD",
    "executionInfo": {
     "status": "ok",
     "timestamp": 1728566161485,
     "user_tz": -120,
     "elapsed": 277,
     "user": {
      "displayName": "Michael Ziegler",
      "userId": "04882649772826203915"
     }
    },
    "outputId": "54e6dd66-0bca-4f99-d308-94edd74486e9",
    "ExecuteTime": {
     "end_time": "2025-10-03T06:39:56.098945Z",
     "start_time": "2025-10-03T06:39:56.094293Z"
    }
   },
   "outputs": [
    {
     "data": {
      "text/plain": [
       "array(['Female', 'Male', 'M', 'F'], dtype=object)"
      ]
     },
     "execution_count": 3,
     "metadata": {},
     "output_type": "execute_result"
    }
   ],
   "execution_count": 3
  },
  {
   "cell_type": "code",
   "source": [
    "# Prüfen, ob irgendwo Daten fehlen\n",
    "df.isnull().sum()"
   ],
   "metadata": {
    "colab": {
     "base_uri": "https://localhost:8080/",
     "height": 649
    },
    "id": "cW7AgujfgzQZ",
    "executionInfo": {
     "status": "ok",
     "timestamp": 1728566164011,
     "user_tz": -120,
     "elapsed": 269,
     "user": {
      "displayName": "Michael Ziegler",
      "userId": "04882649772826203915"
     }
    },
    "outputId": "1f63f618-a492-4c33-bbd0-c8a8db11c168",
    "ExecuteTime": {
     "end_time": "2025-10-03T06:39:56.130136Z",
     "start_time": "2025-10-03T06:39:56.121702Z"
    }
   },
   "outputs": [
    {
     "data": {
      "text/plain": [
       "RowNumber             0\n",
       "CustomerId            0\n",
       "Surname               0\n",
       "CreditScore           0\n",
       "Geography             0\n",
       "Gender                0\n",
       "Age                   0\n",
       "Tenure                0\n",
       "Balance               0\n",
       "NumOfProducts         0\n",
       "HasCrCard             0\n",
       "IsActiveMember        0\n",
       "EstimatedSalary       5\n",
       "Exited                0\n",
       "Complain              0\n",
       "Satisfaction Score    0\n",
       "Card Type             0\n",
       "Point Earned          0\n",
       "dtype: int64"
      ]
     },
     "execution_count": 4,
     "metadata": {},
     "output_type": "execute_result"
    }
   ],
   "execution_count": 4
  },
  {
   "cell_type": "code",
   "source": [
    "# Das Feature \"CreditScore\" auf Ausreisser prüfen\n",
    "Q1 = df[\"CreditScore\"].quantile(0.25)\n",
    "Q3 = df[\"CreditScore\"].quantile(0.75)\n",
    "IQR = Q3 - Q1\n",
    "lower_bound = Q1 - 1.5 * IQR\n",
    "upper_bound = Q3 + 1.5 * IQR\n",
    "outliers = df[(df[\"CreditScore\"] < lower_bound) | (df[\"CreditScore\"] > upper_bound)]\n",
    "print(outliers[\"CreditScore\"])"
   ],
   "metadata": {
    "colab": {
     "base_uri": "https://localhost:8080/"
    },
    "id": "a9Ao1AeFhcRa",
    "executionInfo": {
     "status": "ok",
     "timestamp": 1728566171267,
     "user_tz": -120,
     "elapsed": 289,
     "user": {
      "displayName": "Michael Ziegler",
      "userId": "04882649772826203915"
     }
    },
    "outputId": "64402e1e-9c02-49f1-dc47-30396cff6fbc",
    "ExecuteTime": {
     "end_time": "2025-10-03T06:39:56.169108Z",
     "start_time": "2025-10-03T06:39:56.161337Z"
    }
   },
   "outputs": [
    {
     "name": "stdout",
     "output_type": "stream",
     "text": [
      "7       376\n",
      "942     376\n",
      "1193    363\n",
      "1405    359\n",
      "1631    350\n",
      "1838    350\n",
      "1962    358\n",
      "2473    351\n",
      "2579    365\n",
      "8154    367\n",
      "8723    350\n",
      "8762    350\n",
      "9210    382\n",
      "9356    373\n",
      "9624    350\n",
      "Name: CreditScore, dtype: int64\n"
     ]
    }
   ],
   "execution_count": 5
  },
  {
   "cell_type": "code",
   "source": [
    "# In der Spalte \"Gender\" alle Einträge mit \"F\" zu \"Female\" umschreiben\n",
    "df.loc[df[\"Gender\"] == \"F\", \"Gender\"] = \"Female\""
   ],
   "metadata": {
    "id": "4f1c-ZQuq5_v",
    "ExecuteTime": {
     "end_time": "2025-10-03T06:39:56.204596Z",
     "start_time": "2025-10-03T06:39:56.193113Z"
    }
   },
   "outputs": [],
   "execution_count": 6
  },
  {
   "cell_type": "code",
   "source": [
    "# in der Spalte \"EstimatedSalary\" die fehlende Werte mit dem Median ersetzen\n",
    "df[\"EstimatedSalary\"].fillna(df[\"EstimatedSalary\"].median(), inplace=True)"
   ],
   "metadata": {
    "id": "IzvgaODnrRc3",
    "ExecuteTime": {
     "end_time": "2025-10-03T06:39:56.220023Z",
     "start_time": "2025-10-03T06:39:56.212240Z"
    }
   },
   "outputs": [
    {
     "name": "stderr",
     "output_type": "stream",
     "text": [
      "/var/folders/_r/qvytkmg9639ddqw_hz9bt_d40000gn/T/ipykernel_38279/3751218867.py:2: FutureWarning: A value is trying to be set on a copy of a DataFrame or Series through chained assignment using an inplace method.\n",
      "The behavior will change in pandas 3.0. This inplace method will never work because the intermediate object on which we are setting values always behaves as a copy.\n",
      "\n",
      "For example, when doing 'df[col].method(value, inplace=True)', try using 'df.method({col: value}, inplace=True)' or df[col] = df[col].method(value) instead, to perform the operation inplace on the original object.\n",
      "\n",
      "\n",
      "  df[\"EstimatedSalary\"].fillna(df[\"EstimatedSalary\"].median(), inplace=True)\n"
     ]
    }
   ],
   "execution_count": 7
  },
  {
   "cell_type": "code",
   "source": [
    "# in der Spalte \"CreditScore\" die Zeilen entfernen, die ein Ausreisser sind\n",
    "df = df[(df[\"CreditScore\"] >= lower_bound) & (df[\"CreditScore\"] <= upper_bound)]"
   ],
   "metadata": {
    "id": "jBjwtEaarf01",
    "ExecuteTime": {
     "end_time": "2025-10-03T06:39:56.238357Z",
     "start_time": "2025-10-03T06:39:56.230084Z"
    }
   },
   "outputs": [],
   "execution_count": 8
  },
  {
   "cell_type": "markdown",
   "source": [
    "# **Nun sind Sie dran**\n",
    "Untersuchen Sie weitere Features...\n",
    "\n",
    "*   auf fehlende Werte, Ausreisser, ...\n",
    "*   versuchen Sie fehlende Werte auch mal durch den Modus oder Mittelwert zu ersetzen, oder entsprechende Zeilen zu entfernen...\n",
    "\n"
   ],
   "metadata": {
    "id": "2cuaCNb9sqpR"
   }
  }
 ]
}
