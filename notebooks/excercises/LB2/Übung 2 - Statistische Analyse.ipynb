{
 "nbformat": 4,
 "nbformat_minor": 0,
 "metadata": {
  "colab": {
   "provenance": [],
   "authorship_tag": "ABX9TyMWFTnwX3V3N6bQUoB2LYLG"
  },
  "kernelspec": {
   "name": "python3",
   "display_name": "Python 3 (ipykernel)",
   "language": "python"
  },
  "language_info": {
   "name": "python"
  }
 },
 "cells": [
  {
   "cell_type": "markdown",
   "source": [
    "# Übung 2 - Statistische Analyse der Daten"
   ],
   "metadata": {
    "id": "sIsMwVqvhCXk"
   }
  },
  {
   "cell_type": "code",
   "metadata": {
    "id": "S5hLFrVLMQyb",
    "colab": {
     "base_uri": "https://localhost:8080/"
    },
    "executionInfo": {
     "status": "ok",
     "timestamp": 1728033439599,
     "user_tz": -120,
     "elapsed": 22524,
     "user": {
      "displayName": "Michael Ziegler",
      "userId": "04882649772826203915"
     }
    },
    "outputId": "ccd13f3b-4bfb-4a0f-fd3e-8fe1d5503d97",
    "ExecuteTime": {
     "end_time": "2025-10-03T06:39:04.888608Z",
     "start_time": "2025-10-03T06:39:04.646078Z"
    }
   },
   "source": [
    "### Daten einlesen\n",
    "## Daten von Kaggle: https://www.kaggle.com/datasets/radheshyamkollipara/bank-customer-churn/data\n",
    "\n",
    "# CSV-File einlesen - mit Library pandas\n",
    "import pandas as pd\n",
    "df = pd.read_csv('../../../data/Customer-Churn-Records.csv')"
   ],
   "outputs": [],
   "execution_count": 1
  },
  {
   "cell_type": "code",
   "source": [
    "# Erst einmal anschauen, was für Features vorhanden sind (Struktur des Datensatzes)\n",
    "\n",
    "df.head()"
   ],
   "metadata": {
    "colab": {
     "base_uri": "https://localhost:8080/",
     "height": 243
    },
    "id": "6E72QmNCgqKG",
    "executionInfo": {
     "status": "ok",
     "timestamp": 1728033442140,
     "user_tz": -120,
     "elapsed": 378,
     "user": {
      "displayName": "Michael Ziegler",
      "userId": "04882649772826203915"
     }
    },
    "outputId": "c19a9145-8832-4d95-929c-60695ebc9657",
    "ExecuteTime": {
     "end_time": "2025-10-03T06:39:04.902846Z",
     "start_time": "2025-10-03T06:39:04.892736Z"
    }
   },
   "outputs": [
    {
     "data": {
      "text/plain": [
       "   RowNumber  CustomerId   Surname  CreditScore Geography  Gender  Age  \\\n",
       "0          1    15634602  Hargrave          619    France  Female   42   \n",
       "1          2    15647311      Hill          608     Spain  Female   41   \n",
       "2          3    15619304      Onio          502    France  Female   42   \n",
       "3          4    15701354      Boni          699    France  Female   39   \n",
       "4          5    15737888  Mitchell          850     Spain  Female   43   \n",
       "\n",
       "   Tenure    Balance  NumOfProducts  HasCrCard  IsActiveMember  \\\n",
       "0       2       0.00              1          1               1   \n",
       "1       1   83807.86              1          0               1   \n",
       "2       8  159660.80              3          1               0   \n",
       "3       1       0.00              2          0               0   \n",
       "4       2  125510.82              1          1               1   \n",
       "\n",
       "   EstimatedSalary  Exited  Complain  Satisfaction Score Card Type  \\\n",
       "0        101348.88       1         1                   2   DIAMOND   \n",
       "1        112542.58       0         1                   3   DIAMOND   \n",
       "2        113931.57       1         1                   3   DIAMOND   \n",
       "3         93826.63       0         0                   5      GOLD   \n",
       "4         79084.10       0         0                   5      GOLD   \n",
       "\n",
       "   Point Earned  \n",
       "0           464  \n",
       "1           456  \n",
       "2           377  \n",
       "3           350  \n",
       "4           425  "
      ],
      "text/html": [
       "<div>\n",
       "<style scoped>\n",
       "    .dataframe tbody tr th:only-of-type {\n",
       "        vertical-align: middle;\n",
       "    }\n",
       "\n",
       "    .dataframe tbody tr th {\n",
       "        vertical-align: top;\n",
       "    }\n",
       "\n",
       "    .dataframe thead th {\n",
       "        text-align: right;\n",
       "    }\n",
       "</style>\n",
       "<table border=\"1\" class=\"dataframe\">\n",
       "  <thead>\n",
       "    <tr style=\"text-align: right;\">\n",
       "      <th></th>\n",
       "      <th>RowNumber</th>\n",
       "      <th>CustomerId</th>\n",
       "      <th>Surname</th>\n",
       "      <th>CreditScore</th>\n",
       "      <th>Geography</th>\n",
       "      <th>Gender</th>\n",
       "      <th>Age</th>\n",
       "      <th>Tenure</th>\n",
       "      <th>Balance</th>\n",
       "      <th>NumOfProducts</th>\n",
       "      <th>HasCrCard</th>\n",
       "      <th>IsActiveMember</th>\n",
       "      <th>EstimatedSalary</th>\n",
       "      <th>Exited</th>\n",
       "      <th>Complain</th>\n",
       "      <th>Satisfaction Score</th>\n",
       "      <th>Card Type</th>\n",
       "      <th>Point Earned</th>\n",
       "    </tr>\n",
       "  </thead>\n",
       "  <tbody>\n",
       "    <tr>\n",
       "      <th>0</th>\n",
       "      <td>1</td>\n",
       "      <td>15634602</td>\n",
       "      <td>Hargrave</td>\n",
       "      <td>619</td>\n",
       "      <td>France</td>\n",
       "      <td>Female</td>\n",
       "      <td>42</td>\n",
       "      <td>2</td>\n",
       "      <td>0.00</td>\n",
       "      <td>1</td>\n",
       "      <td>1</td>\n",
       "      <td>1</td>\n",
       "      <td>101348.88</td>\n",
       "      <td>1</td>\n",
       "      <td>1</td>\n",
       "      <td>2</td>\n",
       "      <td>DIAMOND</td>\n",
       "      <td>464</td>\n",
       "    </tr>\n",
       "    <tr>\n",
       "      <th>1</th>\n",
       "      <td>2</td>\n",
       "      <td>15647311</td>\n",
       "      <td>Hill</td>\n",
       "      <td>608</td>\n",
       "      <td>Spain</td>\n",
       "      <td>Female</td>\n",
       "      <td>41</td>\n",
       "      <td>1</td>\n",
       "      <td>83807.86</td>\n",
       "      <td>1</td>\n",
       "      <td>0</td>\n",
       "      <td>1</td>\n",
       "      <td>112542.58</td>\n",
       "      <td>0</td>\n",
       "      <td>1</td>\n",
       "      <td>3</td>\n",
       "      <td>DIAMOND</td>\n",
       "      <td>456</td>\n",
       "    </tr>\n",
       "    <tr>\n",
       "      <th>2</th>\n",
       "      <td>3</td>\n",
       "      <td>15619304</td>\n",
       "      <td>Onio</td>\n",
       "      <td>502</td>\n",
       "      <td>France</td>\n",
       "      <td>Female</td>\n",
       "      <td>42</td>\n",
       "      <td>8</td>\n",
       "      <td>159660.80</td>\n",
       "      <td>3</td>\n",
       "      <td>1</td>\n",
       "      <td>0</td>\n",
       "      <td>113931.57</td>\n",
       "      <td>1</td>\n",
       "      <td>1</td>\n",
       "      <td>3</td>\n",
       "      <td>DIAMOND</td>\n",
       "      <td>377</td>\n",
       "    </tr>\n",
       "    <tr>\n",
       "      <th>3</th>\n",
       "      <td>4</td>\n",
       "      <td>15701354</td>\n",
       "      <td>Boni</td>\n",
       "      <td>699</td>\n",
       "      <td>France</td>\n",
       "      <td>Female</td>\n",
       "      <td>39</td>\n",
       "      <td>1</td>\n",
       "      <td>0.00</td>\n",
       "      <td>2</td>\n",
       "      <td>0</td>\n",
       "      <td>0</td>\n",
       "      <td>93826.63</td>\n",
       "      <td>0</td>\n",
       "      <td>0</td>\n",
       "      <td>5</td>\n",
       "      <td>GOLD</td>\n",
       "      <td>350</td>\n",
       "    </tr>\n",
       "    <tr>\n",
       "      <th>4</th>\n",
       "      <td>5</td>\n",
       "      <td>15737888</td>\n",
       "      <td>Mitchell</td>\n",
       "      <td>850</td>\n",
       "      <td>Spain</td>\n",
       "      <td>Female</td>\n",
       "      <td>43</td>\n",
       "      <td>2</td>\n",
       "      <td>125510.82</td>\n",
       "      <td>1</td>\n",
       "      <td>1</td>\n",
       "      <td>1</td>\n",
       "      <td>79084.10</td>\n",
       "      <td>0</td>\n",
       "      <td>0</td>\n",
       "      <td>5</td>\n",
       "      <td>GOLD</td>\n",
       "      <td>425</td>\n",
       "    </tr>\n",
       "  </tbody>\n",
       "</table>\n",
       "</div>"
      ]
     },
     "execution_count": 2,
     "metadata": {},
     "output_type": "execute_result"
    }
   ],
   "execution_count": 2
  },
  {
   "cell_type": "code",
   "source": [
    "# Berechnen des Modus (bspw. für das Feature \"CreditScore\")\n",
    "df['CreditScore'].mode()"
   ],
   "metadata": {
    "colab": {
     "base_uri": "https://localhost:8080/",
     "height": 115
    },
    "id": "HU9JaqMxh8Lq",
    "executionInfo": {
     "status": "ok",
     "timestamp": 1728033462725,
     "user_tz": -120,
     "elapsed": 366,
     "user": {
      "displayName": "Michael Ziegler",
      "userId": "04882649772826203915"
     }
    },
    "outputId": "dd8b2e70-c3bd-4c0d-fdd7-97d49370e327",
    "ExecuteTime": {
     "end_time": "2025-10-03T06:39:04.919667Z",
     "start_time": "2025-10-03T06:39:04.912595Z"
    }
   },
   "outputs": [
    {
     "data": {
      "text/plain": [
       "0    850\n",
       "Name: CreditScore, dtype: int64"
      ]
     },
     "execution_count": 3,
     "metadata": {},
     "output_type": "execute_result"
    }
   ],
   "execution_count": 3
  },
  {
   "cell_type": "code",
   "source": [
    "# Berechnen des arithmetischen Mittelwerts (bspw. für das Feature \"CreditScore\")\n",
    "df['CreditScore'].mean()"
   ],
   "metadata": {
    "colab": {
     "base_uri": "https://localhost:8080/"
    },
    "id": "etnAFjDKiu0B",
    "executionInfo": {
     "status": "ok",
     "timestamp": 1721989027777,
     "user_tz": -120,
     "elapsed": 252,
     "user": {
      "displayName": "Michael Ziegler",
      "userId": "04882649772826203915"
     }
    },
    "outputId": "4d4e21a4-8d4a-41d6-e206-3bca0728e4da",
    "ExecuteTime": {
     "end_time": "2025-10-03T06:39:04.928301Z",
     "start_time": "2025-10-03T06:39:04.925609Z"
    }
   },
   "outputs": [
    {
     "data": {
      "text/plain": [
       "np.float64(650.5288)"
      ]
     },
     "execution_count": 4,
     "metadata": {},
     "output_type": "execute_result"
    }
   ],
   "execution_count": 4
  },
  {
   "cell_type": "code",
   "source": [
    "# Berechnen des Median (bspw. für das Feature \"CreditScore\")\n",
    "df['CreditScore'].median()"
   ],
   "metadata": {
    "colab": {
     "base_uri": "https://localhost:8080/"
    },
    "id": "TPuauB4xi3pD",
    "executionInfo": {
     "status": "ok",
     "timestamp": 1728033493822,
     "user_tz": -120,
     "elapsed": 613,
     "user": {
      "displayName": "Michael Ziegler",
      "userId": "04882649772826203915"
     }
    },
    "outputId": "828923a7-7f02-4114-c3d1-e7abc6f2e45d",
    "ExecuteTime": {
     "end_time": "2025-10-03T06:39:04.937226Z",
     "start_time": "2025-10-03T06:39:04.933635Z"
    }
   },
   "outputs": [
    {
     "data": {
      "text/plain": [
       "np.float64(652.0)"
      ]
     },
     "execution_count": 5,
     "metadata": {},
     "output_type": "execute_result"
    }
   ],
   "execution_count": 5
  },
  {
   "cell_type": "code",
   "source": [
    "# Berechnen der min und max Werte (bspw. für das Feature \"CreditScore\")\n",
    "print(df['CreditScore'].min())\n",
    "print(df['CreditScore'].max())"
   ],
   "metadata": {
    "colab": {
     "base_uri": "https://localhost:8080/"
    },
    "id": "4XM4M9ln5AU4",
    "executionInfo": {
     "status": "ok",
     "timestamp": 1728033505474,
     "user_tz": -120,
     "elapsed": 343,
     "user": {
      "displayName": "Michael Ziegler",
      "userId": "04882649772826203915"
     }
    },
    "outputId": "10dcb62a-7d45-412b-b24b-783fb2da8e20",
    "ExecuteTime": {
     "end_time": "2025-10-03T06:39:04.945660Z",
     "start_time": "2025-10-03T06:39:04.941847Z"
    }
   },
   "outputs": [
    {
     "name": "stdout",
     "output_type": "stream",
     "text": [
      "350\n",
      "850\n"
     ]
    }
   ],
   "execution_count": 6
  },
  {
   "cell_type": "code",
   "source": [
    "# Berechnen der Spannweite (bspw. für das Feature \"CreditScore\")\n",
    "df['CreditScore'].max() - df['CreditScore'].min()"
   ],
   "metadata": {
    "colab": {
     "base_uri": "https://localhost:8080/"
    },
    "id": "x6t9H9zC5U4A",
    "executionInfo": {
     "status": "ok",
     "timestamp": 1728033520906,
     "user_tz": -120,
     "elapsed": 372,
     "user": {
      "displayName": "Michael Ziegler",
      "userId": "04882649772826203915"
     }
    },
    "outputId": "5835102d-335b-410d-9688-088721ae1248",
    "ExecuteTime": {
     "end_time": "2025-10-03T06:39:04.953831Z",
     "start_time": "2025-10-03T06:39:04.950649Z"
    }
   },
   "outputs": [
    {
     "data": {
      "text/plain": [
       "np.int64(500)"
      ]
     },
     "execution_count": 7,
     "metadata": {},
     "output_type": "execute_result"
    }
   ],
   "execution_count": 7
  },
  {
   "cell_type": "code",
   "source": [
    "# Berechnen der p Perzentile (bspw. 5 Perzentil für das Feature \"CreditScore\")\n",
    "df['CreditScore'].quantile(0.05)"
   ],
   "metadata": {
    "colab": {
     "base_uri": "https://localhost:8080/"
    },
    "id": "5C9zJTeY5cIN",
    "executionInfo": {
     "status": "ok",
     "timestamp": 1721994993565,
     "user_tz": -120,
     "elapsed": 253,
     "user": {
      "displayName": "Michael Ziegler",
      "userId": "04882649772826203915"
     }
    },
    "outputId": "8ca330a6-13cb-4594-840d-2d4ceb9f3f87",
    "ExecuteTime": {
     "end_time": "2025-10-03T06:39:04.962982Z",
     "start_time": "2025-10-03T06:39:04.959398Z"
    }
   },
   "outputs": [
    {
     "data": {
      "text/plain": [
       "np.float64(489.0)"
      ]
     },
     "execution_count": 8,
     "metadata": {},
     "output_type": "execute_result"
    }
   ],
   "execution_count": 8
  },
  {
   "cell_type": "code",
   "source": [
    "# Berechnen der Quartile (bspw. das 1. Quartil für das Feature \"CreditScore\")\n",
    "df['CreditScore'].quantile(0.25)"
   ],
   "metadata": {
    "colab": {
     "base_uri": "https://localhost:8080/"
    },
    "id": "HiOP5pyg6ZIT",
    "executionInfo": {
     "status": "ok",
     "timestamp": 1721995229903,
     "user_tz": -120,
     "elapsed": 281,
     "user": {
      "displayName": "Michael Ziegler",
      "userId": "04882649772826203915"
     }
    },
    "outputId": "afcf4d50-ca55-45e8-a5f3-667a48efae1b",
    "ExecuteTime": {
     "end_time": "2025-10-03T06:39:04.971702Z",
     "start_time": "2025-10-03T06:39:04.967073Z"
    }
   },
   "outputs": [
    {
     "data": {
      "text/plain": [
       "np.float64(584.0)"
      ]
     },
     "execution_count": 9,
     "metadata": {},
     "output_type": "execute_result"
    }
   ],
   "execution_count": 9
  },
  {
   "cell_type": "code",
   "source": [
    "# Berechnen der Varianz und Standardabweichung (bspw. für das Feature \"CreditScore\")\n",
    "print(df['CreditScore'].var())\n",
    "print(df['CreditScore'].std())"
   ],
   "metadata": {
    "colab": {
     "base_uri": "https://localhost:8080/"
    },
    "id": "bVAZAR6o6qWv",
    "executionInfo": {
     "status": "ok",
     "timestamp": 1721995321523,
     "user_tz": -120,
     "elapsed": 229,
     "user": {
      "displayName": "Michael Ziegler",
      "userId": "04882649772826203915"
     }
    },
    "outputId": "d1b0abb6-4bb5-40d0-8dee-2a8bbb8dd028",
    "ExecuteTime": {
     "end_time": "2025-10-03T06:39:04.980503Z",
     "start_time": "2025-10-03T06:39:04.977631Z"
    }
   },
   "outputs": [
    {
     "name": "stdout",
     "output_type": "stream",
     "text": [
      "9341.860156575658\n",
      "96.65329873613035\n"
     ]
    }
   ],
   "execution_count": 10
  },
  {
   "cell_type": "code",
   "source": [
    "# Berechnen von Verhältnissen (bspw. der prozentuale Anteile im Feature \"Geography\")\n",
    "df['Geography'].value_counts(normalize=True)"
   ],
   "metadata": {
    "colab": {
     "base_uri": "https://localhost:8080/",
     "height": 209
    },
    "id": "62qtiGn8-hyz",
    "executionInfo": {
     "status": "ok",
     "timestamp": 1728033567232,
     "user_tz": -120,
     "elapsed": 362,
     "user": {
      "displayName": "Michael Ziegler",
      "userId": "04882649772826203915"
     }
    },
    "outputId": "e2a1b97c-74a3-48ce-a817-a67645bd9f8f",
    "ExecuteTime": {
     "end_time": "2025-10-03T06:39:04.989227Z",
     "start_time": "2025-10-03T06:39:04.985033Z"
    }
   },
   "outputs": [
    {
     "data": {
      "text/plain": [
       "Geography\n",
       "France     0.5014\n",
       "Germany    0.2509\n",
       "Spain      0.2477\n",
       "Name: proportion, dtype: float64"
      ]
     },
     "execution_count": 11,
     "metadata": {},
     "output_type": "execute_result"
    }
   ],
   "execution_count": 11
  },
  {
   "cell_type": "code",
   "source": [
    "# Berechnen von Korrelationen (bspw. zwischen \"Complain\" und \"Exited\")\n",
    "df['Complain'].corr(df['Exited'])"
   ],
   "metadata": {
    "colab": {
     "base_uri": "https://localhost:8080/"
    },
    "id": "ptG-CYv9-yeq",
    "executionInfo": {
     "status": "ok",
     "timestamp": 1721996389553,
     "user_tz": -120,
     "elapsed": 243,
     "user": {
      "displayName": "Michael Ziegler",
      "userId": "04882649772826203915"
     }
    },
    "outputId": "3ac71904-07d9-413d-b0cc-1fe08108add6",
    "ExecuteTime": {
     "end_time": "2025-10-03T06:39:05.000653Z",
     "start_time": "2025-10-03T06:39:04.995834Z"
    }
   },
   "outputs": [
    {
     "data": {
      "text/plain": [
       "np.float64(0.9956925015718905)"
      ]
     },
     "execution_count": 12,
     "metadata": {},
     "output_type": "execute_result"
    }
   ],
   "execution_count": 12
  },
  {
   "cell_type": "code",
   "source": [
    "# Eine schnelle, grobe Übersicht mit .describe()\n",
    "df.describe()"
   ],
   "metadata": {
    "colab": {
     "base_uri": "https://localhost:8080/",
     "height": 337
    },
    "id": "o9r3j_cohYat",
    "executionInfo": {
     "status": "ok",
     "timestamp": 1721988771350,
     "user_tz": -120,
     "elapsed": 505,
     "user": {
      "displayName": "Michael Ziegler",
      "userId": "04882649772826203915"
     }
    },
    "outputId": "fb48ee70-4888-4420-b6b9-ed15285fd401",
    "ExecuteTime": {
     "end_time": "2025-10-03T06:39:05.034260Z",
     "start_time": "2025-10-03T06:39:05.003934Z"
    }
   },
   "outputs": [
    {
     "data": {
      "text/plain": [
       "         RowNumber    CustomerId   CreditScore           Age        Tenure  \\\n",
       "count  10000.00000  1.000000e+04  10000.000000  10000.000000  10000.000000   \n",
       "mean    5000.50000  1.569094e+07    650.528800     38.921800      5.012800   \n",
       "std     2886.89568  7.193619e+04     96.653299     10.487806      2.892174   \n",
       "min        1.00000  1.556570e+07    350.000000     18.000000      0.000000   \n",
       "25%     2500.75000  1.562853e+07    584.000000     32.000000      3.000000   \n",
       "50%     5000.50000  1.569074e+07    652.000000     37.000000      5.000000   \n",
       "75%     7500.25000  1.575323e+07    718.000000     44.000000      7.000000   \n",
       "max    10000.00000  1.581569e+07    850.000000     92.000000     10.000000   \n",
       "\n",
       "             Balance  NumOfProducts    HasCrCard  IsActiveMember  \\\n",
       "count   10000.000000   10000.000000  10000.00000    10000.000000   \n",
       "mean    76485.889288       1.530200      0.70550        0.515100   \n",
       "std     62397.405202       0.581654      0.45584        0.499797   \n",
       "min         0.000000       1.000000      0.00000        0.000000   \n",
       "25%         0.000000       1.000000      0.00000        0.000000   \n",
       "50%     97198.540000       1.000000      1.00000        1.000000   \n",
       "75%    127644.240000       2.000000      1.00000        1.000000   \n",
       "max    250898.090000       4.000000      1.00000        1.000000   \n",
       "\n",
       "       EstimatedSalary        Exited      Complain  Satisfaction Score  \\\n",
       "count     10000.000000  10000.000000  10000.000000        10000.000000   \n",
       "mean     100090.239881      0.203800      0.204400            3.013800   \n",
       "std       57510.492818      0.402842      0.403283            1.405919   \n",
       "min          11.580000      0.000000      0.000000            1.000000   \n",
       "25%       51002.110000      0.000000      0.000000            2.000000   \n",
       "50%      100193.915000      0.000000      0.000000            3.000000   \n",
       "75%      149388.247500      0.000000      0.000000            4.000000   \n",
       "max      199992.480000      1.000000      1.000000            5.000000   \n",
       "\n",
       "       Point Earned  \n",
       "count  10000.000000  \n",
       "mean     606.515100  \n",
       "std      225.924839  \n",
       "min      119.000000  \n",
       "25%      410.000000  \n",
       "50%      605.000000  \n",
       "75%      801.000000  \n",
       "max     1000.000000  "
      ],
      "text/html": [
       "<div>\n",
       "<style scoped>\n",
       "    .dataframe tbody tr th:only-of-type {\n",
       "        vertical-align: middle;\n",
       "    }\n",
       "\n",
       "    .dataframe tbody tr th {\n",
       "        vertical-align: top;\n",
       "    }\n",
       "\n",
       "    .dataframe thead th {\n",
       "        text-align: right;\n",
       "    }\n",
       "</style>\n",
       "<table border=\"1\" class=\"dataframe\">\n",
       "  <thead>\n",
       "    <tr style=\"text-align: right;\">\n",
       "      <th></th>\n",
       "      <th>RowNumber</th>\n",
       "      <th>CustomerId</th>\n",
       "      <th>CreditScore</th>\n",
       "      <th>Age</th>\n",
       "      <th>Tenure</th>\n",
       "      <th>Balance</th>\n",
       "      <th>NumOfProducts</th>\n",
       "      <th>HasCrCard</th>\n",
       "      <th>IsActiveMember</th>\n",
       "      <th>EstimatedSalary</th>\n",
       "      <th>Exited</th>\n",
       "      <th>Complain</th>\n",
       "      <th>Satisfaction Score</th>\n",
       "      <th>Point Earned</th>\n",
       "    </tr>\n",
       "  </thead>\n",
       "  <tbody>\n",
       "    <tr>\n",
       "      <th>count</th>\n",
       "      <td>10000.00000</td>\n",
       "      <td>1.000000e+04</td>\n",
       "      <td>10000.000000</td>\n",
       "      <td>10000.000000</td>\n",
       "      <td>10000.000000</td>\n",
       "      <td>10000.000000</td>\n",
       "      <td>10000.000000</td>\n",
       "      <td>10000.00000</td>\n",
       "      <td>10000.000000</td>\n",
       "      <td>10000.000000</td>\n",
       "      <td>10000.000000</td>\n",
       "      <td>10000.000000</td>\n",
       "      <td>10000.000000</td>\n",
       "      <td>10000.000000</td>\n",
       "    </tr>\n",
       "    <tr>\n",
       "      <th>mean</th>\n",
       "      <td>5000.50000</td>\n",
       "      <td>1.569094e+07</td>\n",
       "      <td>650.528800</td>\n",
       "      <td>38.921800</td>\n",
       "      <td>5.012800</td>\n",
       "      <td>76485.889288</td>\n",
       "      <td>1.530200</td>\n",
       "      <td>0.70550</td>\n",
       "      <td>0.515100</td>\n",
       "      <td>100090.239881</td>\n",
       "      <td>0.203800</td>\n",
       "      <td>0.204400</td>\n",
       "      <td>3.013800</td>\n",
       "      <td>606.515100</td>\n",
       "    </tr>\n",
       "    <tr>\n",
       "      <th>std</th>\n",
       "      <td>2886.89568</td>\n",
       "      <td>7.193619e+04</td>\n",
       "      <td>96.653299</td>\n",
       "      <td>10.487806</td>\n",
       "      <td>2.892174</td>\n",
       "      <td>62397.405202</td>\n",
       "      <td>0.581654</td>\n",
       "      <td>0.45584</td>\n",
       "      <td>0.499797</td>\n",
       "      <td>57510.492818</td>\n",
       "      <td>0.402842</td>\n",
       "      <td>0.403283</td>\n",
       "      <td>1.405919</td>\n",
       "      <td>225.924839</td>\n",
       "    </tr>\n",
       "    <tr>\n",
       "      <th>min</th>\n",
       "      <td>1.00000</td>\n",
       "      <td>1.556570e+07</td>\n",
       "      <td>350.000000</td>\n",
       "      <td>18.000000</td>\n",
       "      <td>0.000000</td>\n",
       "      <td>0.000000</td>\n",
       "      <td>1.000000</td>\n",
       "      <td>0.00000</td>\n",
       "      <td>0.000000</td>\n",
       "      <td>11.580000</td>\n",
       "      <td>0.000000</td>\n",
       "      <td>0.000000</td>\n",
       "      <td>1.000000</td>\n",
       "      <td>119.000000</td>\n",
       "    </tr>\n",
       "    <tr>\n",
       "      <th>25%</th>\n",
       "      <td>2500.75000</td>\n",
       "      <td>1.562853e+07</td>\n",
       "      <td>584.000000</td>\n",
       "      <td>32.000000</td>\n",
       "      <td>3.000000</td>\n",
       "      <td>0.000000</td>\n",
       "      <td>1.000000</td>\n",
       "      <td>0.00000</td>\n",
       "      <td>0.000000</td>\n",
       "      <td>51002.110000</td>\n",
       "      <td>0.000000</td>\n",
       "      <td>0.000000</td>\n",
       "      <td>2.000000</td>\n",
       "      <td>410.000000</td>\n",
       "    </tr>\n",
       "    <tr>\n",
       "      <th>50%</th>\n",
       "      <td>5000.50000</td>\n",
       "      <td>1.569074e+07</td>\n",
       "      <td>652.000000</td>\n",
       "      <td>37.000000</td>\n",
       "      <td>5.000000</td>\n",
       "      <td>97198.540000</td>\n",
       "      <td>1.000000</td>\n",
       "      <td>1.00000</td>\n",
       "      <td>1.000000</td>\n",
       "      <td>100193.915000</td>\n",
       "      <td>0.000000</td>\n",
       "      <td>0.000000</td>\n",
       "      <td>3.000000</td>\n",
       "      <td>605.000000</td>\n",
       "    </tr>\n",
       "    <tr>\n",
       "      <th>75%</th>\n",
       "      <td>7500.25000</td>\n",
       "      <td>1.575323e+07</td>\n",
       "      <td>718.000000</td>\n",
       "      <td>44.000000</td>\n",
       "      <td>7.000000</td>\n",
       "      <td>127644.240000</td>\n",
       "      <td>2.000000</td>\n",
       "      <td>1.00000</td>\n",
       "      <td>1.000000</td>\n",
       "      <td>149388.247500</td>\n",
       "      <td>0.000000</td>\n",
       "      <td>0.000000</td>\n",
       "      <td>4.000000</td>\n",
       "      <td>801.000000</td>\n",
       "    </tr>\n",
       "    <tr>\n",
       "      <th>max</th>\n",
       "      <td>10000.00000</td>\n",
       "      <td>1.581569e+07</td>\n",
       "      <td>850.000000</td>\n",
       "      <td>92.000000</td>\n",
       "      <td>10.000000</td>\n",
       "      <td>250898.090000</td>\n",
       "      <td>4.000000</td>\n",
       "      <td>1.00000</td>\n",
       "      <td>1.000000</td>\n",
       "      <td>199992.480000</td>\n",
       "      <td>1.000000</td>\n",
       "      <td>1.000000</td>\n",
       "      <td>5.000000</td>\n",
       "      <td>1000.000000</td>\n",
       "    </tr>\n",
       "  </tbody>\n",
       "</table>\n",
       "</div>"
      ]
     },
     "execution_count": 13,
     "metadata": {},
     "output_type": "execute_result"
    }
   ],
   "execution_count": 13
  },
  {
   "cell_type": "markdown",
   "source": [
    "# **Nun sind Sie dran**\n",
    "\n",
    "Untersuchen Sie die anderen Features mittels der \"statistischen Analyse\"\n",
    "\n",
    "*  ... versuchen Sie bspw. die gesamte Korrelations-Matrix zu generieren...\n",
    "\n"
   ],
   "metadata": {
    "id": "EdogBbptg9ql"
   }
  }
 ]
}
